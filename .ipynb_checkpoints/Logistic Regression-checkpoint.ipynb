{
 "cells": [
  {
   "cell_type": "markdown",
   "metadata": {},
   "source": [
    "# Logistic Regression\n",
    "Is a classification algorithm (yes his name can be confusing) which means that we only can predict discrete values.\n",
    "\n",
    "A Logistic Regression is a Linear Regression with an activation function in their output (sigmoid) that return us the probability to zero or one. So is almost the same!!\n",
    "\n",
    "There are 3 kinds of Logistic regression:\n",
    "1. Binary Logistic Regression: is a binary classification, for example if your email is 'Spam' or 'Ham'\n",
    "2. Multinomial Logistic Regression: more than two categories without order, for example if an image is a dog, a cat or a python.\n",
    "3. Ordinal Logistic Regression: more than two categories with order, for example a ratting from 1 to 5\n",
    "![linear_regression](https://www.saedsayad.com/images/LogReg_1.png)"
   ]
  },
  {
   "cell_type": "markdown",
   "metadata": {},
   "source": [
    "## Scikit Learn Logistic Regression\n",
    "Now we are going to use the linear regression of sklearn no predict data and see all the posibilities that this package offer to us"
   ]
  },
  {
   "cell_type": "code",
   "execution_count": 9,
   "metadata": {},
   "outputs": [
    {
     "name": "stdout",
     "output_type": "stream",
     "text": [
      "The version_information extension is already loaded. To reload it, use:\n",
      "  %reload_ext version_information\n"
     ]
    },
    {
     "data": {
      "application/json": {
       "Software versions": [
        {
         "module": "Python",
         "version": "3.7.4 64bit [GCC 7.3.0]"
        },
        {
         "module": "IPython",
         "version": "7.8.0"
        },
        {
         "module": "OS",
         "version": "Linux 5.0.0 27 generic x86_64 with debian buster sid"
        },
        {
         "module": "pandas",
         "version": "0.25.1"
        },
        {
         "module": "matplotlib",
         "version": "3.1.1"
        },
        {
         "module": "sklearn",
         "version": "0.21.2"
        }
       ]
      },
      "text/html": [
       "<table><tr><th>Software</th><th>Version</th></tr><tr><td>Python</td><td>3.7.4 64bit [GCC 7.3.0]</td></tr><tr><td>IPython</td><td>7.8.0</td></tr><tr><td>OS</td><td>Linux 5.0.0 27 generic x86_64 with debian buster sid</td></tr><tr><td>pandas</td><td>0.25.1</td></tr><tr><td>matplotlib</td><td>3.1.1</td></tr><tr><td>sklearn</td><td>0.21.2</td></tr><tr><td colspan='2'>Sun Sep 15 18:52:42 2019 CEST</td></tr></table>"
      ],
      "text/latex": [
       "\\begin{tabular}{|l|l|}\\hline\n",
       "{\\bf Software} & {\\bf Version} \\\\ \\hline\\hline\n",
       "Python & 3.7.4 64bit [GCC 7.3.0] \\\\ \\hline\n",
       "IPython & 7.8.0 \\\\ \\hline\n",
       "OS & Linux 5.0.0 27 generic x86\\_64 with debian buster sid \\\\ \\hline\n",
       "pandas & 0.25.1 \\\\ \\hline\n",
       "matplotlib & 3.1.1 \\\\ \\hline\n",
       "sklearn & 0.21.2 \\\\ \\hline\n",
       "\\hline \\multicolumn{2}{|l|}{Sun Sep 15 18:52:42 2019 CEST} \\\\ \\hline\n",
       "\\end{tabular}\n"
      ],
      "text/plain": [
       "Software versions\n",
       "Python 3.7.4 64bit [GCC 7.3.0]\n",
       "IPython 7.8.0\n",
       "OS Linux 5.0.0 27 generic x86_64 with debian buster sid\n",
       "pandas 0.25.1\n",
       "matplotlib 3.1.1\n",
       "sklearn 0.21.2\n",
       "Sun Sep 15 18:52:42 2019 CEST"
      ]
     },
     "execution_count": 9,
     "metadata": {},
     "output_type": "execute_result"
    }
   ],
   "source": [
    "import numpy as np\n",
    "import pandas as pd\n",
    "import matplotlib.pyplot as plt\n",
    "from sklearn.linear_model import LogisticRegression, LinearRegression\n",
    "from sklearn.model_selection import train_test_split\n",
    "from sklearn.metrics import roc_auc_score, accuracy_score, f1_score, confusion_matrix, classification_report\n",
    "\n",
    "%load_ext version_information\n",
    "%matplotlib inline\n",
    "%version_information pandas, matplotlib, sklearn"
   ]
  },
  {
   "cell_type": "markdown",
   "metadata": {},
   "source": [
    "### 1 Prepare the data to the model\n",
    "We have the definition of the dataset in the notebook"
   ]
  },
  {
   "cell_type": "code",
   "execution_count": 4,
   "metadata": {},
   "outputs": [
    {
     "data": {
      "text/html": [
       "<div>\n",
       "<style scoped>\n",
       "    .dataframe tbody tr th:only-of-type {\n",
       "        vertical-align: middle;\n",
       "    }\n",
       "\n",
       "    .dataframe tbody tr th {\n",
       "        vertical-align: top;\n",
       "    }\n",
       "\n",
       "    .dataframe thead th {\n",
       "        text-align: right;\n",
       "    }\n",
       "</style>\n",
       "<table border=\"1\" class=\"dataframe\">\n",
       "  <thead>\n",
       "    <tr style=\"text-align: right;\">\n",
       "      <th></th>\n",
       "      <th>TV</th>\n",
       "      <th>Radio</th>\n",
       "      <th>Newspaper</th>\n",
       "      <th>Sales</th>\n",
       "      <th>City_size</th>\n",
       "    </tr>\n",
       "  </thead>\n",
       "  <tbody>\n",
       "    <tr>\n",
       "      <td>0</td>\n",
       "      <td>230.1</td>\n",
       "      <td>37.8</td>\n",
       "      <td>69.2</td>\n",
       "      <td>2210.0</td>\n",
       "      <td>big</td>\n",
       "    </tr>\n",
       "    <tr>\n",
       "      <td>1</td>\n",
       "      <td>44.5</td>\n",
       "      <td>39.3</td>\n",
       "      <td>45.1</td>\n",
       "      <td>1040.0</td>\n",
       "      <td>small</td>\n",
       "    </tr>\n",
       "    <tr>\n",
       "      <td>2</td>\n",
       "      <td>17.2</td>\n",
       "      <td>45.9</td>\n",
       "      <td>69.3</td>\n",
       "      <td>930.0</td>\n",
       "      <td>small</td>\n",
       "    </tr>\n",
       "    <tr>\n",
       "      <td>3</td>\n",
       "      <td>151.5</td>\n",
       "      <td>41.3</td>\n",
       "      <td>58.5</td>\n",
       "      <td>1850.0</td>\n",
       "      <td>big</td>\n",
       "    </tr>\n",
       "    <tr>\n",
       "      <td>4</td>\n",
       "      <td>180.8</td>\n",
       "      <td>10.8</td>\n",
       "      <td>58.4</td>\n",
       "      <td>1290.0</td>\n",
       "      <td>small</td>\n",
       "    </tr>\n",
       "    <tr>\n",
       "      <td>...</td>\n",
       "      <td>...</td>\n",
       "      <td>...</td>\n",
       "      <td>...</td>\n",
       "      <td>...</td>\n",
       "      <td>...</td>\n",
       "    </tr>\n",
       "    <tr>\n",
       "      <td>195</td>\n",
       "      <td>38.2</td>\n",
       "      <td>3.7</td>\n",
       "      <td>13.8</td>\n",
       "      <td>760.0</td>\n",
       "      <td>small</td>\n",
       "    </tr>\n",
       "    <tr>\n",
       "      <td>196</td>\n",
       "      <td>94.2</td>\n",
       "      <td>4.9</td>\n",
       "      <td>8.1</td>\n",
       "      <td>970.0</td>\n",
       "      <td>small</td>\n",
       "    </tr>\n",
       "    <tr>\n",
       "      <td>197</td>\n",
       "      <td>177.0</td>\n",
       "      <td>9.3</td>\n",
       "      <td>6.4</td>\n",
       "      <td>1280.0</td>\n",
       "      <td>small</td>\n",
       "    </tr>\n",
       "    <tr>\n",
       "      <td>198</td>\n",
       "      <td>283.6</td>\n",
       "      <td>42.0</td>\n",
       "      <td>66.2</td>\n",
       "      <td>2550.0</td>\n",
       "      <td>big</td>\n",
       "    </tr>\n",
       "    <tr>\n",
       "      <td>199</td>\n",
       "      <td>232.1</td>\n",
       "      <td>8.6</td>\n",
       "      <td>8.7</td>\n",
       "      <td>1340.0</td>\n",
       "      <td>small</td>\n",
       "    </tr>\n",
       "  </tbody>\n",
       "</table>\n",
       "<p>200 rows × 5 columns</p>\n",
       "</div>"
      ],
      "text/plain": [
       "        TV  Radio  Newspaper   Sales City_size\n",
       "0    230.1   37.8       69.2  2210.0       big\n",
       "1     44.5   39.3       45.1  1040.0     small\n",
       "2     17.2   45.9       69.3   930.0     small\n",
       "3    151.5   41.3       58.5  1850.0       big\n",
       "4    180.8   10.8       58.4  1290.0     small\n",
       "..     ...    ...        ...     ...       ...\n",
       "195   38.2    3.7       13.8   760.0     small\n",
       "196   94.2    4.9        8.1   970.0     small\n",
       "197  177.0    9.3        6.4  1280.0     small\n",
       "198  283.6   42.0       66.2  2550.0       big\n",
       "199  232.1    8.6        8.7  1340.0     small\n",
       "\n",
       "[200 rows x 5 columns]"
      ]
     },
     "execution_count": 4,
     "metadata": {},
     "output_type": "execute_result"
    }
   ],
   "source": [
    "df_ad = pd.read_csv('data/Advertising.csv')\n",
    "df_ad.drop(columns='Unnamed: 0', inplace=True)\n",
    "df_ad['Sales'] = df_ad['Sales'] * 100\n",
    "df_ad"
   ]
  },
  {
   "cell_type": "code",
   "execution_count": null,
   "metadata": {},
   "outputs": [],
   "source": [
    "train, test = train_test_split(df_ad)\n",
    "X_train = train.drop(columns=['City_size'])\n",
    "y_train = train['City_size']\n",
    "X_test = test.drop(columns=['City_size'])\n",
    "y_test = test['City_size']"
   ]
  },
  {
   "cell_type": "markdown",
   "metadata": {},
   "source": [
    "### 2. Train the model and test it\n",
    "First of all we are going to see the hyperparameters that Linear regressiona have\n",
    "\n",
    "* fit_intercept: True or False if you want a constant $\\beta$\n",
    "* penalty: could be l1/l2/elasticnet/none:\n",
    "    * L1: makes some $\\beta$ zero, so will not affect to the prediction, this is a way of forcer the variable selection\n",
    "    * L2 or Ridge: makes that the weights of the linear regression (the $\\beta$ )\n",
    "    * elasticnet: use the L1 and L2 penalty and you can choose the percentage of each one\n",
    "* tol: is the tolerance for the stopping criteria, this tells our algorithm to stop searching for a mininum once some tolerance is achived\n",
    "* C: is a regularization parameter that apply a penalty in order to reduce the overfitting, smaller vaules specify stronger regularization\n",
    "* class_weight: balanced/None if you want to adds weights to your data in order to deal with the unbalanced classes\n",
    "* solver: newton-cg/lbfgs/liblinear/sag/saga the kernel (or the algorithm) that will solve our problem. I need a large article to explain all of these methods. If you want to know more you can visit [this answerd in stackoverflow who's brilliant](https://stackoverflow.com/questions/38640109/logistic-regression-python-solvers-defintions)\n",
    "* max_iter: maximun number of iterations taken for the solver to converge\n",
    "* multi_class: ovr/multinomial/auto the way we want to solve the multiclass problem\n",
    "* warm_start: True/False is used to reduce the time of your kernel, you can use with the following kernerl, lbfgs, newton-cg, sg and saga\n",
    "* l1_ratio: only if you choose elasticnet regularization, is a number between 0 and 1 that represent the porcentage of l1 and l2 regularization, 0 is equal to l2 regularization and 1 is equal to l1 regularization"
   ]
  },
  {
   "cell_type": "code",
   "execution_count": 82,
   "metadata": {},
   "outputs": [],
   "source": [
    "LogisticRegression?"
   ]
  },
  {
   "cell_type": "code",
   "execution_count": 103,
   "metadata": {},
   "outputs": [],
   "source": [
    "lr = LogisticRegression(fit_intercept=True, penalty='l2', tol=1e-5, C=0.8, solver='lbfgs', max_iter=60,\n",
    "                       warm_start=True)\n",
    "lr_default = LogisticRegression()"
   ]
  },
  {
   "cell_type": "code",
   "execution_count": 104,
   "metadata": {},
   "outputs": [
    {
     "name": "stdout",
     "output_type": "stream",
     "text": [
      "accuracy in train: 0.9466666666666667\n",
      "accuracy in test: 0.92\n"
     ]
    },
    {
     "name": "stderr",
     "output_type": "stream",
     "text": [
      "/root/miniconda3/envs/pycharm/lib/python3.7/site-packages/sklearn/linear_model/logistic.py:947: ConvergenceWarning: lbfgs failed to converge. Increase the number of iterations.\n",
      "  \"of iterations.\", ConvergenceWarning)\n"
     ]
    }
   ],
   "source": [
    "lr.fit(X_train, y_train)\n",
    "preds_train = lr.predict(X_train)\n",
    "preds_test = lr.predict(X_test)\n",
    "print('accuracy in train:', accuracy_score(preds_train, y_train))\n",
    "print('accuracy in test:', accuracy_score(preds_test, y_test))"
   ]
  },
  {
   "cell_type": "markdown",
   "metadata": {},
   "source": [
    "Here we have a convergencewarning wich means that the algorithm has stop for our max_iter parameter but it not converge, so probably if we fix more iterations we will obtain better result"
   ]
  },
  {
   "cell_type": "code",
   "execution_count": 106,
   "metadata": {},
   "outputs": [
    {
     "name": "stdout",
     "output_type": "stream",
     "text": [
      "accuracy in train: 0.9733333333333334\n",
      "accuracy in test: 0.96\n"
     ]
    }
   ],
   "source": [
    "lr2 = LogisticRegression(fit_intercept=True, penalty='l2', tol=1e-5, C=0.8, solver='lbfgs', max_iter=75,\n",
    "                       warm_start=True)\n",
    "\n",
    "lr2.fit(X_train, y_train)\n",
    "preds_train2 = lr2.predict(X_train)\n",
    "preds_test2 = lr2.predict(X_test)\n",
    "print('accuracy in train:', accuracy_score(preds_train2, y_train))\n",
    "print('accuracy in test:', accuracy_score(preds_test2, y_test))"
   ]
  },
  {
   "cell_type": "markdown",
   "metadata": {},
   "source": [
    "We have improve in almost 3% of train and 4% in test which is great. Now we are going to train the default logistic regression of sklearn."
   ]
  },
  {
   "cell_type": "code",
   "execution_count": 108,
   "metadata": {},
   "outputs": [
    {
     "name": "stdout",
     "output_type": "stream",
     "text": [
      "accuracy in train: 0.9066666666666666\n",
      "accuracy in test: 0.92\n"
     ]
    },
    {
     "name": "stderr",
     "output_type": "stream",
     "text": [
      "/root/miniconda3/envs/pycharm/lib/python3.7/site-packages/sklearn/linear_model/logistic.py:432: FutureWarning: Default solver will be changed to 'lbfgs' in 0.22. Specify a solver to silence this warning.\n",
      "  FutureWarning)\n"
     ]
    }
   ],
   "source": [
    "lr_default.fit(X_train, y_train)\n",
    "preds_train_default = lr_default.predict(X_train)\n",
    "preds_test_default = lr_default.predict(X_test)\n",
    "print('accuracy in train:', accuracy_score(preds_train_default, y_train))\n",
    "print('accuracy in test:', accuracy_score(preds_test_default, y_test))"
   ]
  },
  {
   "cell_type": "markdown",
   "metadata": {},
   "source": [
    "Here we can see the power of the hyperparameter, if we have a total comprenhension of our dataset and what the hyperparameters do, we can obtain amazing results of our models, we have improve in train a 7% the accuracy of the model.\n",
    "\n",
    "Now let use more classification report to see how we have improve with the hyperparameters"
   ]
  },
  {
   "cell_type": "code",
   "execution_count": 127,
   "metadata": {},
   "outputs": [
    {
     "name": "stdout",
     "output_type": "stream",
     "text": [
      "Classification report of our model\n",
      "\n",
      "              precision    recall  f1-score   support\n",
      "\n",
      "         big       0.88      1.00      0.94        15\n",
      "       small       1.00      0.94      0.97        35\n",
      "\n",
      "    accuracy                           0.96        50\n",
      "   macro avg       0.94      0.97      0.95        50\n",
      "weighted avg       0.96      0.96      0.96        50\n",
      "\n"
     ]
    }
   ],
   "source": [
    "print('Classification report of our model\\n')\n",
    "print(classification_report(preds_test2, y_test))"
   ]
  },
  {
   "cell_type": "code",
   "execution_count": 128,
   "metadata": {},
   "outputs": [
    {
     "name": "stdout",
     "output_type": "stream",
     "text": [
      "Classification report of sklearn default model \n",
      "\n",
      "              precision    recall  f1-score   support\n",
      "\n",
      "         big       0.82      0.93      0.87        15\n",
      "       small       0.97      0.91      0.94        35\n",
      "\n",
      "    accuracy                           0.92        50\n",
      "   macro avg       0.90      0.92      0.91        50\n",
      "weighted avg       0.93      0.92      0.92        50\n",
      "\n"
     ]
    }
   ],
   "source": [
    "print('Classification report of sklearn default model \\n')\n",
    "print(classification_report(preds_test_default, y_test))"
   ]
  }
 ],
 "metadata": {
  "kernelspec": {
   "display_name": "Python 3",
   "language": "python",
   "name": "python3"
  },
  "language_info": {
   "codemirror_mode": {
    "name": "ipython",
    "version": 3
   },
   "file_extension": ".py",
   "mimetype": "text/x-python",
   "name": "python",
   "nbconvert_exporter": "python",
   "pygments_lexer": "ipython3",
   "version": "3.7.4"
  }
 },
 "nbformat": 4,
 "nbformat_minor": 2
}
